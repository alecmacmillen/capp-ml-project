{
 "cells": [
  {
   "cell_type": "code",
   "execution_count": 2,
   "metadata": {},
   "outputs": [],
   "source": [
    "import pipeline as ppl\n",
    "import pandas as pd\n",
    "import numpy as np\n",
    "import seaborn as sns\n",
    "import matplotlib.pyplot as plt\n",
    "import re"
   ]
  },
  {
   "cell_type": "code",
   "execution_count": 3,
   "metadata": {},
   "outputs": [],
   "source": [
    "from datetime import datetime"
   ]
  },
  {
   "cell_type": "code",
   "execution_count": 4,
   "metadata": {},
   "outputs": [],
   "source": [
    "evaluations = pd.read_csv(\"../Data/RCRA_EVALUATIONS.csv\")"
   ]
  },
  {
   "cell_type": "code",
   "execution_count": 5,
   "metadata": {},
   "outputs": [
    {
     "name": "stdout",
     "output_type": "stream",
     "text": [
      "evaluations \n",
      " There are 991196 observations of 8 variables:\n",
      "\n",
      "                 colname           type  pct_null\n",
      "0              ID_NUMBER  <class 'str'>       0.0\n",
      "1      ACTIVITY_LOCATION  <class 'str'>       0.0\n",
      "2  EVALUATION_IDENTIFIER  <class 'str'>       0.0\n",
      "3        EVALUATION_TYPE  <class 'str'>       0.0\n",
      "4        EVALUATION_DESC  <class 'str'>       0.0\n",
      "5      EVALUATION_AGENCY  <class 'str'>       0.0\n",
      "6  EVALUATION_START_DATE  <class 'str'>       0.0\n",
      "7        FOUND_VIOLATION  <class 'str'>       0.0 \n",
      "\n",
      "Summary of numeric variables\n",
      " None\n"
     ]
    }
   ],
   "source": [
    "meta = ppl.generate_metadata(evaluations)\n",
    "summary = ppl.generate_summary(evaluations)\n",
    "print(\"evaluations\", \"\\n\", \"There are\", len(evaluations), \"observations of\", len(meta), \"variables:\\n\")\n",
    "print(meta, \"\\n\")\n",
    "print(\"Summary of numeric variables\\n\", summary)"
   ]
  },
  {
   "cell_type": "code",
   "execution_count": 6,
   "metadata": {},
   "outputs": [
    {
     "data": {
      "text/plain": [
       "NJ    72342\n",
       "FL    64264\n",
       "NC    55070\n",
       "CO    52943\n",
       "PA    47917\n",
       "KY    46963\n",
       "OH    40566\n",
       "NY    39556\n",
       "MI    36534\n",
       "TN    34782\n",
       "GA    32370\n",
       "CA    30782\n",
       "IL    29827\n",
       "IN    25694\n",
       "AL    24155\n",
       "MA    22560\n",
       "SC    18382\n",
       "WA    18341\n",
       "MO    18289\n",
       "KS    17868\n",
       "LA    17814\n",
       "TX    17799\n",
       "IA    16630\n",
       "WV    16156\n",
       "VA    16004\n",
       "WI    15310\n",
       "NV    14001\n",
       "MN    13196\n",
       "MT    12422\n",
       "CT    11275\n",
       "OR     9568\n",
       "MD     9498\n",
       "DC     9492\n",
       "PR     9319\n",
       "MS     6772\n",
       "WY     5789\n",
       "RI     5766\n",
       "OK     5724\n",
       "AR     5576\n",
       "UT     5215\n",
       "NM     4691\n",
       "AZ     4628\n",
       "NE     4494\n",
       "ID     4207\n",
       "VT     3853\n",
       "DE     2932\n",
       "ND     2492\n",
       "HI     2207\n",
       "SD     2094\n",
       "AK     2016\n",
       "NH     1955\n",
       "ME     1893\n",
       "GU      560\n",
       "VI      404\n",
       "NN      115\n",
       "MP       80\n",
       "TT       31\n",
       "AS       13\n",
       "Name: ACTIVITY_LOCATION, dtype: int64"
      ]
     },
     "execution_count": 6,
     "metadata": {},
     "output_type": "execute_result"
    }
   ],
   "source": [
    "evaluations['ACTIVITY_LOCATION'].value_counts()"
   ]
  },
  {
   "cell_type": "code",
   "execution_count": 7,
   "metadata": {},
   "outputs": [
    {
     "data": {
      "text/plain": [
       "001    455707\n",
       "000    136739\n",
       "002     52842\n",
       "003     25755\n",
       "CEN     20156\n",
       "004     17074\n",
       "CEI     16580\n",
       "005     12837\n",
       "NRR     12074\n",
       "SFQ     11353\n",
       "006     10178\n",
       "MD1      9027\n",
       "007      8508\n",
       "601      7329\n",
       "008      7155\n",
       "009      6079\n",
       "010      5478\n",
       "1        5371\n",
       "100      5156\n",
       "011      4699\n",
       "FRR      4415\n",
       "GM1      4319\n",
       "012      4120\n",
       "013      3643\n",
       "CNV      3427\n",
       "014      3337\n",
       "2        3268\n",
       "200      3039\n",
       "CV3      3018\n",
       "015      2992\n",
       "        ...  \n",
       "$09         1\n",
       "722         1\n",
       "72A         1\n",
       "$23         1\n",
       "758         1\n",
       "748         1\n",
       "PK8         1\n",
       "50B         1\n",
       "PK6         1\n",
       "SBY         1\n",
       "762         1\n",
       "PKD         1\n",
       "746         1\n",
       "$26         1\n",
       "71B         1\n",
       "PK9         1\n",
       "W00         1\n",
       "$35         1\n",
       "CAO         1\n",
       "96C         1\n",
       "AT          1\n",
       "PKQ         1\n",
       "BSF         1\n",
       "723         1\n",
       "04J         1\n",
       "Y28         1\n",
       "87          1\n",
       "06A         1\n",
       "759         1\n",
       "$16         1\n",
       "Name: EVALUATION_IDENTIFIER, Length: 1272, dtype: int64"
      ]
     },
     "execution_count": 7,
     "metadata": {},
     "output_type": "execute_result"
    }
   ],
   "source": [
    "evaluations['EVALUATION_IDENTIFIER'].value_counts()"
   ]
  },
  {
   "cell_type": "code",
   "execution_count": 8,
   "metadata": {},
   "outputs": [
    {
     "data": {
      "text/plain": [
       "CEI    531722\n",
       "FCI    115662\n",
       "NRR    106236\n",
       "CSE     57794\n",
       "FRR     41473\n",
       "FSD     34196\n",
       "CAV     29405\n",
       "SNY     18543\n",
       "SNN     17079\n",
       "FUI     15623\n",
       "CDI      8696\n",
       "GME      6182\n",
       "OAM      5031\n",
       "CAC      3487\n",
       "NIR        67\n",
       "Name: EVALUATION_TYPE, dtype: int64"
      ]
     },
     "execution_count": 8,
     "metadata": {},
     "output_type": "execute_result"
    }
   ],
   "source": [
    "evaluations['EVALUATION_TYPE'].value_counts()"
   ]
  },
  {
   "cell_type": "code",
   "execution_count": 9,
   "metadata": {},
   "outputs": [
    {
     "data": {
      "text/plain": [
       "COMPLIANCE EVALUATION INSPECTION ON-SITE    531722\n",
       "FOCUSED COMPLIANCE INSPECTION               115662\n",
       "NON-FINANCIAL RECORD REVIEW                 106236\n",
       "COMPLIANCE SCHEDULE EVALUATION               57794\n",
       "FINANCIAL RECORD REVIEW                      41473\n",
       "COMPLIANCE ASSISTANCE VISIT                  29405\n",
       "FACILITY SELF DISCLOSURE                     25647\n",
       "SIGNIFICANT NON-COMPLIER                     18543\n",
       "NOT A SIGNIFICANT NON-COMPLIER               17079\n",
       "FOLLOW-UP INSPECTION                         15623\n",
       "CASE DEVELOPMENT INSPECTION                   8696\n",
       "Facility Self Disclosure                      8549\n",
       "GROUNDWATER MONITORING EVALUATION             6182\n",
       "OPERATION AND MAINTENANCE INSPECTION          5031\n",
       "CORRECTIVE ACTION COMPLIANCE EVALUATION       3487\n",
       "NO 3007 INFORMATION REQUEST RECEIVED            67\n",
       "Name: EVALUATION_DESC, dtype: int64"
      ]
     },
     "execution_count": 9,
     "metadata": {},
     "output_type": "execute_result"
    }
   ],
   "source": [
    "evaluations['EVALUATION_DESC'].value_counts()"
   ]
  },
  {
   "cell_type": "code",
   "execution_count": null,
   "metadata": {},
   "outputs": [
    {
     "data": {
      "text/plain": [
       "S      903249\n",
       "E       55272\n",
       "C       14725\n",
       "B       11863\n",
       "X        5540\n",
       "L         401\n",
       "T         136\n",
       "N          10\n",
       "Name: EVALUATION_AGENCY, dtype: int64"
      ]
     },
     "execution_count": 10,
     "metadata": {},
     "output_type": "execute_result"
    }
   ],
   "source": [
    "evaluations['EVALUATION_AGENCY'].value_counts()"
   ]
  },
  {
   "cell_type": "code",
   "execution_count": null,
   "metadata": {},
   "outputs": [
    {
     "data": {
      "text/plain": [
       "0    02/01/1990\n",
       "1    09/28/1990\n",
       "2    03/06/1991\n",
       "3    03/06/1991\n",
       "4    09/30/1991\n",
       "Name: EVALUATION_START_DATE, dtype: object"
      ]
     },
     "execution_count": 11,
     "metadata": {},
     "output_type": "execute_result"
    }
   ],
   "source": [
    "evaluations['EVALUATION_START_DATE'].head()"
   ]
  },
  {
   "cell_type": "code",
   "execution_count": null,
   "metadata": {},
   "outputs": [],
   "source": [
    "evaluations['FOUND_VIOLATION'] = evaluations['FOUND_VIOLATION'].str.strip()\n",
    "evaluations['ACTIVITY_LOCATION'] = evaluations['ACTIVITY_LOCATION'].str.strip()\n",
    "evaluations['EVALUATION_IDENTIFIER'] = evaluations['EVALUATION_IDENTIFIER'].str.strip()\n",
    "evaluations['EVALUATION_TYPE'] = evaluations['EVALUATION_TYPE'].str.strip()\n",
    "evaluations['EVALUATION_AGENCY'] = evaluations['EVALUATION_AGENCY'].str.strip()"
   ]
  },
  {
   "cell_type": "code",
   "execution_count": null,
   "metadata": {},
   "outputs": [],
   "source": [
    "evaluations['VIOLATION_IND'] = np.where(evaluations['FOUND_VIOLATION']==\"Y\",1,0)"
   ]
  },
  {
   "cell_type": "code",
   "execution_count": null,
   "metadata": {},
   "outputs": [],
   "source": [
    "evaluations['DATE'] = pd.to_datetime(evaluations['EVALUATION_START_DATE'], errors='coerce')"
   ]
  },
  {
   "cell_type": "code",
   "execution_count": null,
   "metadata": {},
   "outputs": [],
   "source": [
    "evaluations_date = evaluations[evaluations['DATE']>='2000-01-01']"
   ]
  },
  {
   "cell_type": "code",
   "execution_count": null,
   "metadata": {},
   "outputs": [],
   "source": [
    "evaluations_date.head()"
   ]
  },
  {
   "cell_type": "code",
   "execution_count": null,
   "metadata": {},
   "outputs": [],
   "source": [
    "x = evaluations_date[['ACTIVITY_LOCATION','EVALUATION_IDENTIFIER','EVALUATION_TYPE','EVALUATION_AGENCY']]\n",
    "x_dummy = ppl.dummify_categorical(x, ['ACTIVITY_LOCATION', 'EVALUATION_IDENTIFIER', 'EVALUATION_TYPE', 'EVALUATION_AGENCY'])\n",
    "y = evaluations_date['VIOLATION_IND']"
   ]
  },
  {
   "cell_type": "code",
   "execution_count": null,
   "metadata": {},
   "outputs": [],
   "source": [
    "for depth in range(1,6):\n",
    "    dtree = ppl.train_decision_tree(x_dummy, y, max_depth=depth)\n",
    "    x_dummy.columns\n",
    "    d = {'Features':x_dummy.columns, \"Importance\":dtree.feature_importances_}\n",
    "    feature_importance = pd.DataFrame(data=d)\n",
    "    feature_importance = feature_importance.sort_values(by=['Importance'], ascending=False)\n",
    "    feature_importance = feature_importance[feature_importance['Importance'] > 0.0]\n",
    "    print(\"Feature importance for decision tree with max_depth\", depth, \":\\n\")\n",
    "    print(feature_importance)\n",
    "    print(\"--------------------------------------------------------\")"
   ]
  },
  {
   "cell_type": "code",
   "execution_count": null,
   "metadata": {},
   "outputs": [],
   "source": [
    "x_train, x_test, y_train, y_test = ppl.create_date_splits(evaluations_date, ['ACTIVITY_LOCATION','EVALUATION_IDENTIFIER','EVALUATION_TYPE','EVALUATION_AGENCY'],\n",
    "                                                         'VIOLATION_IND', 'DATE', ('01/01/2000','12/31/2015'), ('01/01/2016','12/31/2018'))"
   ]
  },
  {
   "cell_type": "code",
   "execution_count": null,
   "metadata": {},
   "outputs": [],
   "source": [
    "x_train = ppl.dummify_categorical(x_train, ['ACTIVITY_LOCATION', 'EVALUATION_IDENTIFIER', 'EVALUATION_TYPE', 'EVALUATION_AGENCY'])\n",
    "x_test = ppl.dummify_categorical(x_test, ['ACTIVITY_LOCATION', 'EVALUATION_IDENTIFIER', 'EVALUATION_TYPE', 'EVALUATION_AGENCY'])"
   ]
  },
  {
   "cell_type": "code",
   "execution_count": 37,
   "metadata": {},
   "outputs": [
    {
     "ename": "AttributeError",
     "evalue": "module 'pipeline' has no attribute 'decision_tree_loop'",
     "output_type": "error",
     "traceback": [
      "\u001b[1;31m---------------------------------------------------------------------------\u001b[0m",
      "\u001b[1;31mAttributeError\u001b[0m                            Traceback (most recent call last)",
      "\u001b[1;32m<ipython-input-37-2b375a8f2174>\u001b[0m in \u001b[0;36m<module>\u001b[1;34m\u001b[0m\n\u001b[1;32m----> 1\u001b[1;33m dtree_summary_1 = ppl.decision_tree_loop(x_train, y_train, x_test, y_test, '01/01/2000-12/31/2015', '01/01/2016-12/31/2018', \n\u001b[0m\u001b[0;32m      2\u001b[0m                                          ['gini','entropy'], ['best','random'], [1,2,3,5,10,None], [0.01, 0.02, 0.05, 0.1, 0.2, 0.3, 0.5])\n\u001b[0;32m      3\u001b[0m \u001b[1;33m\u001b[0m\u001b[0m\n\u001b[0;32m      4\u001b[0m \u001b[0mall_dtree\u001b[0m \u001b[1;33m=\u001b[0m \u001b[0mdtree_summary_1\u001b[0m\u001b[1;33m.\u001b[0m\u001b[0msort_values\u001b[0m\u001b[1;33m(\u001b[0m\u001b[0mby\u001b[0m\u001b[1;33m=\u001b[0m\u001b[1;34m'auc'\u001b[0m\u001b[1;33m,\u001b[0m \u001b[0maxis\u001b[0m\u001b[1;33m=\u001b[0m\u001b[1;36m0\u001b[0m\u001b[1;33m,\u001b[0m \u001b[0mascending\u001b[0m\u001b[1;33m=\u001b[0m\u001b[1;32mFalse\u001b[0m\u001b[1;33m)\u001b[0m\u001b[1;33m\u001b[0m\u001b[1;33m\u001b[0m\u001b[0m\n\u001b[0;32m      5\u001b[0m \u001b[0mtop_dtree\u001b[0m \u001b[1;33m=\u001b[0m \u001b[0mall_dtree\u001b[0m\u001b[1;33m[\u001b[0m\u001b[1;33m:\u001b[0m\u001b[1;36m10\u001b[0m\u001b[1;33m]\u001b[0m\u001b[1;33m\u001b[0m\u001b[1;33m\u001b[0m\u001b[0m\n",
      "\u001b[1;31mAttributeError\u001b[0m: module 'pipeline' has no attribute 'decision_tree_loop'"
     ]
    }
   ],
   "source": [
    "dtree_summary_1 = ppl.decision_tree_loop(x_train, y_train, x_test, y_test, '01/01/2000-12/31/2015', '01/01/2016-12/31/2018', \n",
    "                                         ['gini','entropy'], ['best','random'], [1,2,3,5,10,None], [0.01, 0.02, 0.05, 0.1, 0.2, 0.3, 0.5])\n",
    "\n",
    "all_dtree = dtree_summary_1.sort_values(by='auc', axis=0, ascending=False)\n",
    "top_dtree = all_dtree[:10]\n",
    "print(top_dtree)"
   ]
  }
 ],
 "metadata": {
  "kernelspec": {
   "display_name": "Python 3",
   "language": "python",
   "name": "python3"
  },
  "language_info": {
   "codemirror_mode": {
    "name": "ipython",
    "version": 3
   },
   "file_extension": ".py",
   "mimetype": "text/x-python",
   "name": "python",
   "nbconvert_exporter": "python",
   "pygments_lexer": "ipython3",
   "version": "3.6.8"
  }
 },
 "nbformat": 4,
 "nbformat_minor": 2
}
