{
 "cells": [
  {
   "cell_type": "code",
   "execution_count": 1,
   "metadata": {},
   "outputs": [
    {
     "name": "stderr",
     "output_type": "stream",
     "text": [
      "C:\\Users\\Alec\\Anaconda3\\lib\\site-packages\\sklearn\\ensemble\\weight_boosting.py:29: DeprecationWarning: numpy.core.umath_tests is an internal NumPy module and should not be imported. It will be removed in a future NumPy release.\n",
      "  from numpy.core.umath_tests import inner1d\n"
     ]
    }
   ],
   "source": [
    "import pipeline as ppl\n",
    "import pandas as pd\n",
    "import numpy as np\n",
    "import seaborn as sns\n",
    "import matplotlib.pyplot as plt\n",
    "import re"
   ]
  },
  {
   "cell_type": "code",
   "execution_count": 2,
   "metadata": {},
   "outputs": [],
   "source": [
    "enforcements = ppl.load_data(\"../Data/RCRA_ENFORCEMENTS.csv\")\n",
    "evaluations = ppl.load_data(\"../Data/RCRA_EVALUATIONS.csv\")\n",
    "facilities = ppl.load_data(\"../Data/RCRA_FACILITIES.csv\")\n",
    "naics = ppl.load_data(\"../Data/RCRA_NAICS.csv\")\n",
    "violations = ppl.load_data(\"../Data/RCRA_VIOLATIONS.csv\")\n",
    "violations['SCHEDULED_COMPLIANCE_DATE'] = violations['SCHEDULED_COMPLIANCE_DATE'].astype(str)\n",
    "viosnc_history = ppl.load_data(\"../Data/RCRA_VIOSNC_HISTORY.csv\")"
   ]
  },
  {
   "cell_type": "code",
   "execution_count": 3,
   "metadata": {},
   "outputs": [
    {
     "name": "stdout",
     "output_type": "stream",
     "text": [
      "enforcements \n",
      " There are 332540 observations of 11 variables:\n",
      "\n",
      "                    colname                     type  pct_null\n",
      "0                 ID_NUMBER            <class 'str'>  0.000000\n",
      "1         ACTIVITY_LOCATION            <class 'str'>  0.000000\n",
      "2    ENFORCEMENT_IDENTIFIER            <class 'str'>  0.000000\n",
      "3          ENFORCEMENT_TYPE            <class 'str'>  0.000000\n",
      "4          ENFORCEMENT_DESC            <class 'str'>  0.000069\n",
      "5        ENFORCEMENT_AGENCY            <class 'str'>  0.000000\n",
      "6   ENFORCEMENT_ACTION_DATE            <class 'str'>  0.000000\n",
      "7                PMP_AMOUNT  <class 'numpy.float64'>  0.955380\n",
      "8                FMP_AMOUNT  <class 'numpy.float64'>  0.919856\n",
      "9                FSC_AMOUNT  <class 'numpy.float64'>  0.997312\n",
      "10               SCR_AMOUNT  <class 'numpy.float64'>  0.996364 \n",
      "\n",
      "Summary of numeric variables\n",
      "       colname           mean   median  min  max        std_dev   count\n",
      "0  PMP_AMOUNT   71880.810855  10000.0  NaN  NaN  768122.800148  332540\n",
      "1  FMP_AMOUNT   49024.297915   7500.0  NaN  NaN  853275.571100  332540\n",
      "2  FSC_AMOUNT  101109.412472  12198.5  NaN  NaN  754339.029781  332540\n",
      "3  SCR_AMOUNT   34949.278031   9000.0  NaN  NaN  113164.781465  332540\n",
      "-----------------------------------------------------------------------\n",
      "evaluations \n",
      " There are 991196 observations of 8 variables:\n",
      "\n",
      "                 colname           type  pct_null\n",
      "0              ID_NUMBER  <class 'str'>       0.0\n",
      "1      ACTIVITY_LOCATION  <class 'str'>       0.0\n",
      "2  EVALUATION_IDENTIFIER  <class 'str'>       0.0\n",
      "3        EVALUATION_TYPE  <class 'str'>       0.0\n",
      "4        EVALUATION_DESC  <class 'str'>       0.0\n",
      "5      EVALUATION_AGENCY  <class 'str'>       0.0\n",
      "6  EVALUATION_START_DATE  <class 'str'>       0.0\n",
      "7        FOUND_VIOLATION  <class 'str'>       0.0 \n",
      "\n",
      "Summary of numeric variables\n",
      " None\n",
      "-----------------------------------------------------------------------\n",
      "facilities \n",
      " There are 1041254 observations of 15 variables:\n",
      "\n",
      "                    colname                     type      pct_null\n",
      "0                 ID_NUMBER            <class 'str'>  0.000000e+00\n",
      "1             FACILITY_NAME            <class 'str'>  5.762283e-06\n",
      "2         ACTIVITY_LOCATION            <class 'str'>  0.000000e+00\n",
      "3          FULL_ENFORCEMENT            <class 'str'>  0.000000e+00\n",
      "4   HREPORT_UNIVERSE_RECORD            <class 'str'>  9.315691e-05\n",
      "5            STREET_ADDRESS            <class 'str'>  1.306117e-04\n",
      "6                 CITY_NAME            <class 'str'>  9.795881e-05\n",
      "7                STATE_CODE            <class 'str'>  9.603805e-07\n",
      "8                  ZIP_CODE            <class 'str'>  1.930365e-04\n",
      "9                LATITUDE83  <class 'numpy.float64'>  5.653500e-01\n",
      "10              LONGITUDE83  <class 'numpy.float64'>  5.653500e-01\n",
      "11      FED_WASTE_GENERATOR            <class 'str'>  8.250629e-03\n",
      "12              TRANSPORTER            <class 'str'>  2.823519e-04\n",
      "13              ACTIVE_SITE            <class 'str'>  0.000000e+00\n",
      "14           OPERATING_TSDF            <class 'str'>  0.000000e+00 \n",
      "\n",
      "Summary of numeric variables\n",
      "        colname       mean     median  min  max    std_dev    count\n",
      "0   LATITUDE83  38.664657  40.307538  NaN  NaN   5.459541  1041254\n",
      "1  LONGITUDE83 -89.346673 -85.122241  NaN  NaN  16.076286  1041254\n",
      "-----------------------------------------------------------------------\n",
      "naics \n",
      " There are 426042 observations of 3 variables:\n",
      "\n",
      "             colname           type  pct_null\n",
      "0          ID_NUMBER  <class 'str'>       0.0\n",
      "1  ACTIVITY_LOCATION  <class 'str'>       0.0\n",
      "2         NAICS_CODE  <class 'str'>       0.0 \n",
      "\n",
      "Summary of numeric variables\n",
      " None\n",
      "-----------------------------------------------------------------------\n",
      "violations \n",
      " There are 594380 observations of 8 variables:\n",
      "\n",
      "                     colname           type  pct_null\n",
      "0                  ID_NUMBER  <class 'str'>  0.000000\n",
      "1          ACTIVITY_LOCATION  <class 'str'>  0.000000\n",
      "2             VIOLATION_TYPE  <class 'str'>  0.000000\n",
      "3        VIOLATION_TYPE_DESC  <class 'str'>  0.000000\n",
      "4  VIOL_DETERMINED_BY_AGENCY  <class 'str'>  0.000000\n",
      "5  DATE_VIOLATION_DETERMINED  <class 'str'>  0.000000\n",
      "6            ACTUAL_RTC_DATE  <class 'str'>  0.021666\n",
      "7  SCHEDULED_COMPLIANCE_DATE  <class 'str'>  0.000000 \n",
      "\n",
      "Summary of numeric variables\n",
      " None\n",
      "-----------------------------------------------------------------------\n",
      "viosnc_history \n",
      " There are 2318155 observations of 5 variables:\n",
      "\n",
      "             colname                   type  pct_null\n",
      "0          ID_NUMBER          <class 'str'>       0.0\n",
      "1  ACTIVITY_LOCATION          <class 'str'>       0.0\n",
      "2            YRMONTH  <class 'numpy.int64'>       0.0\n",
      "3           VIO_FLAG          <class 'str'>       0.0\n",
      "4           SNC_FLAG          <class 'str'>       0.0 \n",
      "\n",
      "Summary of numeric variables\n",
      "    colname           mean    median     min     max    std_dev    count\n",
      "0  YRMONTH  199865.410076  199706.0  198001  201904  907.50836  2318155\n",
      "-----------------------------------------------------------------------\n"
     ]
    }
   ],
   "source": [
    "dfs = [enforcements, evaluations, facilities, naics, violations, viosnc_history]\n",
    "dfs_name = [\"enforcements\", \"evaluations\", \"facilities\", \"naics\", \"violations\", \"viosnc_history\"]\n",
    "\n",
    "for i, df in enumerate(dfs):\n",
    "    meta = ppl.generate_metadata(df)\n",
    "    summary = ppl.generate_summary(df)\n",
    "    print(dfs_name[i], \"\\n\", \"There are\", len(df), \"observations of\", len(meta), \"variables:\\n\")\n",
    "    print(meta, \"\\n\")\n",
    "    print(\"Summary of numeric variables\\n\", summary)\n",
    "    print(\"-----------------------------------------------------------------------\")"
   ]
  },
  {
   "cell_type": "code",
   "execution_count": 4,
   "metadata": {},
   "outputs": [],
   "source": [
    "merged = evaluations.merge(facilities, how=\"left\", on=\"ID_NUMBER\")\n",
    "merged = merged.merge(naics, how=\"left\", on=\"ID_NUMBER\")"
   ]
  },
  {
   "cell_type": "code",
   "execution_count": 5,
   "metadata": {},
   "outputs": [
    {
     "data": {
      "text/plain": [
       "Index(['ID_NUMBER', 'ACTIVITY_LOCATION_x', 'EVALUATION_IDENTIFIER',\n",
       "       'EVALUATION_TYPE', 'EVALUATION_DESC', 'EVALUATION_AGENCY',\n",
       "       'EVALUATION_START_DATE', 'FOUND_VIOLATION', 'FACILITY_NAME',\n",
       "       'ACTIVITY_LOCATION_y', 'FULL_ENFORCEMENT', 'HREPORT_UNIVERSE_RECORD',\n",
       "       'STREET_ADDRESS', 'CITY_NAME', 'STATE_CODE', 'ZIP_CODE', 'LATITUDE83',\n",
       "       'LONGITUDE83', 'FED_WASTE_GENERATOR', 'TRANSPORTER', 'ACTIVE_SITE',\n",
       "       'OPERATING_TSDF', 'ACTIVITY_LOCATION', 'NAICS_CODE'],\n",
       "      dtype='object')"
      ]
     },
     "execution_count": 5,
     "metadata": {},
     "output_type": "execute_result"
    }
   ],
   "source": [
    "merged.columns"
   ]
  },
  {
   "cell_type": "code",
   "execution_count": 6,
   "metadata": {},
   "outputs": [
    {
     "data": {
      "text/html": [
       "<div>\n",
       "<style scoped>\n",
       "    .dataframe tbody tr th:only-of-type {\n",
       "        vertical-align: middle;\n",
       "    }\n",
       "\n",
       "    .dataframe tbody tr th {\n",
       "        vertical-align: top;\n",
       "    }\n",
       "\n",
       "    .dataframe thead th {\n",
       "        text-align: right;\n",
       "    }\n",
       "</style>\n",
       "<table border=\"1\" class=\"dataframe\">\n",
       "  <thead>\n",
       "    <tr style=\"text-align: right;\">\n",
       "      <th></th>\n",
       "      <th>ID_NUMBER</th>\n",
       "      <th>ACTIVITY_LOCATION_x</th>\n",
       "      <th>EVALUATION_IDENTIFIER</th>\n",
       "      <th>EVALUATION_TYPE</th>\n",
       "      <th>EVALUATION_DESC</th>\n",
       "      <th>EVALUATION_AGENCY</th>\n",
       "      <th>EVALUATION_START_DATE</th>\n",
       "      <th>FOUND_VIOLATION</th>\n",
       "      <th>FACILITY_NAME</th>\n",
       "      <th>ACTIVITY_LOCATION_y</th>\n",
       "      <th>...</th>\n",
       "      <th>STATE_CODE</th>\n",
       "      <th>ZIP_CODE</th>\n",
       "      <th>LATITUDE83</th>\n",
       "      <th>LONGITUDE83</th>\n",
       "      <th>FED_WASTE_GENERATOR</th>\n",
       "      <th>TRANSPORTER</th>\n",
       "      <th>ACTIVE_SITE</th>\n",
       "      <th>OPERATING_TSDF</th>\n",
       "      <th>ACTIVITY_LOCATION</th>\n",
       "      <th>NAICS_CODE</th>\n",
       "    </tr>\n",
       "  </thead>\n",
       "  <tbody>\n",
       "    <tr>\n",
       "      <th>0</th>\n",
       "      <td>MND006156590</td>\n",
       "      <td>MN</td>\n",
       "      <td>032</td>\n",
       "      <td>FCI</td>\n",
       "      <td>FOCUSED COMPLIANCE INSPECTION</td>\n",
       "      <td>S</td>\n",
       "      <td>02/01/1990</td>\n",
       "      <td>N</td>\n",
       "      <td>FEDERAL CARTRIDGE COMPANY</td>\n",
       "      <td>MN</td>\n",
       "      <td>...</td>\n",
       "      <td>MN</td>\n",
       "      <td>55303</td>\n",
       "      <td>45.182678</td>\n",
       "      <td>-93.376346</td>\n",
       "      <td>1</td>\n",
       "      <td>N</td>\n",
       "      <td>HPA--</td>\n",
       "      <td>---ST-</td>\n",
       "      <td>MN</td>\n",
       "      <td>332992</td>\n",
       "    </tr>\n",
       "    <tr>\n",
       "      <th>1</th>\n",
       "      <td>MND006156590</td>\n",
       "      <td>MN</td>\n",
       "      <td>033</td>\n",
       "      <td>FRR</td>\n",
       "      <td>FINANCIAL RECORD REVIEW</td>\n",
       "      <td>S</td>\n",
       "      <td>09/28/1990</td>\n",
       "      <td>N</td>\n",
       "      <td>FEDERAL CARTRIDGE COMPANY</td>\n",
       "      <td>MN</td>\n",
       "      <td>...</td>\n",
       "      <td>MN</td>\n",
       "      <td>55303</td>\n",
       "      <td>45.182678</td>\n",
       "      <td>-93.376346</td>\n",
       "      <td>1</td>\n",
       "      <td>N</td>\n",
       "      <td>HPA--</td>\n",
       "      <td>---ST-</td>\n",
       "      <td>MN</td>\n",
       "      <td>332992</td>\n",
       "    </tr>\n",
       "    <tr>\n",
       "      <th>2</th>\n",
       "      <td>MND006156590</td>\n",
       "      <td>MN</td>\n",
       "      <td>034</td>\n",
       "      <td>CEI</td>\n",
       "      <td>COMPLIANCE EVALUATION INSPECTION ON-SITE</td>\n",
       "      <td>S</td>\n",
       "      <td>03/06/1991</td>\n",
       "      <td>Y</td>\n",
       "      <td>FEDERAL CARTRIDGE COMPANY</td>\n",
       "      <td>MN</td>\n",
       "      <td>...</td>\n",
       "      <td>MN</td>\n",
       "      <td>55303</td>\n",
       "      <td>45.182678</td>\n",
       "      <td>-93.376346</td>\n",
       "      <td>1</td>\n",
       "      <td>N</td>\n",
       "      <td>HPA--</td>\n",
       "      <td>---ST-</td>\n",
       "      <td>MN</td>\n",
       "      <td>332992</td>\n",
       "    </tr>\n",
       "    <tr>\n",
       "      <th>3</th>\n",
       "      <td>MND006156590</td>\n",
       "      <td>MN</td>\n",
       "      <td>035</td>\n",
       "      <td>FCI</td>\n",
       "      <td>FOCUSED COMPLIANCE INSPECTION</td>\n",
       "      <td>S</td>\n",
       "      <td>03/06/1991</td>\n",
       "      <td>Y</td>\n",
       "      <td>FEDERAL CARTRIDGE COMPANY</td>\n",
       "      <td>MN</td>\n",
       "      <td>...</td>\n",
       "      <td>MN</td>\n",
       "      <td>55303</td>\n",
       "      <td>45.182678</td>\n",
       "      <td>-93.376346</td>\n",
       "      <td>1</td>\n",
       "      <td>N</td>\n",
       "      <td>HPA--</td>\n",
       "      <td>---ST-</td>\n",
       "      <td>MN</td>\n",
       "      <td>332992</td>\n",
       "    </tr>\n",
       "    <tr>\n",
       "      <th>4</th>\n",
       "      <td>MND006156590</td>\n",
       "      <td>MN</td>\n",
       "      <td>036</td>\n",
       "      <td>CSE</td>\n",
       "      <td>COMPLIANCE SCHEDULE EVALUATION</td>\n",
       "      <td>S</td>\n",
       "      <td>09/30/1991</td>\n",
       "      <td>N</td>\n",
       "      <td>FEDERAL CARTRIDGE COMPANY</td>\n",
       "      <td>MN</td>\n",
       "      <td>...</td>\n",
       "      <td>MN</td>\n",
       "      <td>55303</td>\n",
       "      <td>45.182678</td>\n",
       "      <td>-93.376346</td>\n",
       "      <td>1</td>\n",
       "      <td>N</td>\n",
       "      <td>HPA--</td>\n",
       "      <td>---ST-</td>\n",
       "      <td>MN</td>\n",
       "      <td>332992</td>\n",
       "    </tr>\n",
       "  </tbody>\n",
       "</table>\n",
       "<p>5 rows × 24 columns</p>\n",
       "</div>"
      ],
      "text/plain": [
       "      ID_NUMBER ACTIVITY_LOCATION_x EVALUATION_IDENTIFIER EVALUATION_TYPE  \\\n",
       "0  MND006156590                  MN                   032             FCI   \n",
       "1  MND006156590                  MN                   033             FRR   \n",
       "2  MND006156590                  MN                   034             CEI   \n",
       "3  MND006156590                  MN                   035             FCI   \n",
       "4  MND006156590                  MN                   036             CSE   \n",
       "\n",
       "                            EVALUATION_DESC EVALUATION_AGENCY  \\\n",
       "0             FOCUSED COMPLIANCE INSPECTION               S     \n",
       "1                   FINANCIAL RECORD REVIEW               S     \n",
       "2  COMPLIANCE EVALUATION INSPECTION ON-SITE               S     \n",
       "3             FOCUSED COMPLIANCE INSPECTION               S     \n",
       "4            COMPLIANCE SCHEDULE EVALUATION               S     \n",
       "\n",
       "  EVALUATION_START_DATE FOUND_VIOLATION              FACILITY_NAME  \\\n",
       "0            02/01/1990             N    FEDERAL CARTRIDGE COMPANY   \n",
       "1            09/28/1990             N    FEDERAL CARTRIDGE COMPANY   \n",
       "2            03/06/1991             Y    FEDERAL CARTRIDGE COMPANY   \n",
       "3            03/06/1991             Y    FEDERAL CARTRIDGE COMPANY   \n",
       "4            09/30/1991             N    FEDERAL CARTRIDGE COMPANY   \n",
       "\n",
       "  ACTIVITY_LOCATION_y    ...     STATE_CODE ZIP_CODE LATITUDE83 LONGITUDE83  \\\n",
       "0                  MN    ...             MN    55303  45.182678  -93.376346   \n",
       "1                  MN    ...             MN    55303  45.182678  -93.376346   \n",
       "2                  MN    ...             MN    55303  45.182678  -93.376346   \n",
       "3                  MN    ...             MN    55303  45.182678  -93.376346   \n",
       "4                  MN    ...             MN    55303  45.182678  -93.376346   \n",
       "\n",
       "  FED_WASTE_GENERATOR TRANSPORTER  ACTIVE_SITE   OPERATING_TSDF  \\\n",
       "0                 1           N          HPA--  ---ST-            \n",
       "1                 1           N          HPA--  ---ST-            \n",
       "2                 1           N          HPA--  ---ST-            \n",
       "3                 1           N          HPA--  ---ST-            \n",
       "4                 1           N          HPA--  ---ST-            \n",
       "\n",
       "  ACTIVITY_LOCATION NAICS_CODE  \n",
       "0            MN         332992  \n",
       "1            MN         332992  \n",
       "2            MN         332992  \n",
       "3            MN         332992  \n",
       "4            MN         332992  \n",
       "\n",
       "[5 rows x 24 columns]"
      ]
     },
     "execution_count": 6,
     "metadata": {},
     "output_type": "execute_result"
    }
   ],
   "source": [
    "merged.head()"
   ]
  },
  {
   "cell_type": "code",
   "execution_count": 7,
   "metadata": {},
   "outputs": [
    {
     "data": {
      "text/plain": [
       "'1990'"
      ]
     },
     "execution_count": 7,
     "metadata": {},
     "output_type": "execute_result"
    }
   ],
   "source": [
    "merged['EVALUATION_START_DATE'].iloc[0][6:]"
   ]
  },
  {
   "cell_type": "code",
   "execution_count": 8,
   "metadata": {},
   "outputs": [],
   "source": [
    "merged.loc[:, 'year'] = merged['EVALUATION_START_DATE'].str[6:].astype(int)"
   ]
  },
  {
   "cell_type": "code",
   "execution_count": 9,
   "metadata": {},
   "outputs": [
    {
     "data": {
      "image/png": "[encoded data removed]",
      "text/plain": [
       "<Figure size 432x288 with 1 Axes>"
      ]
     },
     "metadata": {
      "needs_background": "light"
     },
     "output_type": "display_data"
    }
   ],
   "source": [
    "ppl.generate_histogram(merged, 'year', 'lightblue', 1, \"Observations by year\")"
   ]
  },
  {
   "cell_type": "code",
   "execution_count": 10,
   "metadata": {},
   "outputs": [
    {
     "data": {
      "text/plain": [
       "0     LAD985226075\n",
       "1     LAD985219443\n",
       "2     LAD985219526\n",
       "3     LAD985218890\n",
       "4     LAR000003566\n",
       "5     LAR000003574\n",
       "6     AR0000998393\n",
       "7     AR0000999011\n",
       "8     AR0000999086\n",
       "9     LAD985229111\n",
       "10    LAD985229160\n",
       "11    LAD985229194\n",
       "12    LAD985227313\n",
       "13    LAD985227370\n",
       "14    LAD985227412\n",
       "15    LAD985227453\n",
       "16    LAD985227669\n",
       "17    LAD985227685\n",
       "18    LAD985215565\n",
       "19    NJD986566669\n",
       "Name: ID_NUMBER, dtype: object"
      ]
     },
     "execution_count": 10,
     "metadata": {},
     "output_type": "execute_result"
    }
   ],
   "source": [
    "facilities['ID_NUMBER'].head(20)"
   ]
  },
  {
   "cell_type": "code",
   "execution_count": 11,
   "metadata": {},
   "outputs": [],
   "source": [
    "bloop = facilities['FULL_ENFORCEMENT'] == facilities['OPERATING_TSDF']"
   ]
  },
  {
   "cell_type": "code",
   "execution_count": 12,
   "metadata": {},
   "outputs": [
    {
     "data": {
      "text/plain": [
       "False    1041254\n",
       "dtype: int64"
      ]
     },
     "execution_count": 12,
     "metadata": {},
     "output_type": "execute_result"
    }
   ],
   "source": [
    "bloop.value_counts()"
   ]
  },
  {
   "cell_type": "code",
   "execution_count": 13,
   "metadata": {},
   "outputs": [
    {
     "data": {
      "text/plain": [
       "001    149328\n",
       "000     50647\n",
       "002     20100\n",
       "003     10710\n",
       "004      7197\n",
       "125      6229\n",
       "105      5667\n",
       "005      5358\n",
       "006      4109\n",
       "1        3673\n",
       "115      3612\n",
       "SFQ      3563\n",
       "007      3150\n",
       "123      2870\n",
       "008      2483\n",
       "DV1      2419\n",
       "2        2255\n",
       "312      2185\n",
       "009      2055\n",
       "101      1814\n",
       "010      1772\n",
       "200      1701\n",
       "011      1477\n",
       "3        1417\n",
       "120      1296\n",
       "012      1222\n",
       "4        1088\n",
       "013      1083\n",
       "315      1062\n",
       "014       997\n",
       "        ...  \n",
       "04          1\n",
       "718         1\n",
       "06          1\n",
       "55A         1\n",
       "Y21         1\n",
       "737         1\n",
       "553         1\n",
       "JDC         1\n",
       "567         1\n",
       "SRS         1\n",
       "992         1\n",
       "TW          1\n",
       "JAS         1\n",
       "50A         1\n",
       "96          1\n",
       "526         1\n",
       "495         1\n",
       "54B         1\n",
       "53A         1\n",
       "560         1\n",
       "MD3         1\n",
       "44B         1\n",
       "92          1\n",
       "43A         1\n",
       "742         1\n",
       "BF          1\n",
       "11A         1\n",
       "C01         1\n",
       "99          1\n",
       "237         1\n",
       "Name: ENFORCEMENT_IDENTIFIER, Length: 975, dtype: int64"
      ]
     },
     "execution_count": 13,
     "metadata": {},
     "output_type": "execute_result"
    }
   ],
   "source": [
    "enforcements['ENFORCEMENT_IDENTIFIER'].value_counts()"
   ]
  },
  {
   "cell_type": "code",
   "execution_count": 14,
   "metadata": {},
   "outputs": [
    {
     "data": {
      "text/plain": [
       "HQ120    194812\n",
       "HQ310     22764\n",
       "HQ210     15646\n",
       "HQ110      9626\n",
       "FL125      5942\n",
       "FL105      5653\n",
       "FL115      3603\n",
       "WI124      3062\n",
       "SC140      3003\n",
       "HQ140      2863\n",
       "FL123      2859\n",
       "IL121      2677\n",
       "MN121      2665\n",
       "AZ161      2640\n",
       "OR121      2615\n",
       "FL312      2171\n",
       "HQ510      2136\n",
       "MO122      1919\n",
       "09114      1825\n",
       "HQ820      1825\n",
       "AL115      1481\n",
       "VA119      1437\n",
       "MN122      1369\n",
       "HQ610      1240\n",
       "MT132      1172\n",
       "IN217      1161\n",
       "CO175      1103\n",
       "HQ385      1039\n",
       "FL315       954\n",
       "TX141       914\n",
       "          ...  \n",
       "MI123         1\n",
       "MN125         1\n",
       "WI735         1\n",
       "PA131         1\n",
       "01862         1\n",
       "OR215         1\n",
       "MI124         1\n",
       "AL861         1\n",
       "ME211         1\n",
       "03129         1\n",
       "HQ865         1\n",
       "WV841         1\n",
       "RI121         1\n",
       "AL343         1\n",
       "WA125         1\n",
       "WI123         1\n",
       "06832         1\n",
       "MI515         1\n",
       "MD252         1\n",
       "09226         1\n",
       "FL436         1\n",
       "VT121         1\n",
       "01621         1\n",
       "IL625         1\n",
       "NH311         1\n",
       "MN085         1\n",
       "WV514         1\n",
       "WI122         1\n",
       "08132         1\n",
       "WV840         1\n",
       "Name: ENFORCEMENT_TYPE, Length: 424, dtype: int64"
      ]
     },
     "execution_count": 14,
     "metadata": {},
     "output_type": "execute_result"
    }
   ],
   "source": [
    "enforcements['ENFORCEMENT_TYPE'].value_counts()"
   ]
  },
  {
   "cell_type": "code",
   "execution_count": 15,
   "metadata": {},
   "outputs": [
    {
     "data": {
      "text/plain": [
       "001    455707\n",
       "000    136739\n",
       "002     52842\n",
       "003     25755\n",
       "CEN     20156\n",
       "004     17074\n",
       "CEI     16580\n",
       "005     12837\n",
       "NRR     12074\n",
       "SFQ     11353\n",
       "006     10178\n",
       "MD1      9027\n",
       "007      8508\n",
       "601      7329\n",
       "008      7155\n",
       "009      6079\n",
       "010      5478\n",
       "1        5371\n",
       "100      5156\n",
       "011      4699\n",
       "FRR      4415\n",
       "GM1      4319\n",
       "012      4120\n",
       "013      3643\n",
       "CNV      3427\n",
       "014      3337\n",
       "2        3268\n",
       "200      3039\n",
       "CV3      3018\n",
       "015      2992\n",
       "        ...  \n",
       "$23         1\n",
       "04J         1\n",
       "66B         1\n",
       "$34         1\n",
       "MS2         1\n",
       "DG1         1\n",
       "N           1\n",
       "61A         1\n",
       "$18         1\n",
       "37B         1\n",
       "$11         1\n",
       "MO          1\n",
       "00R         1\n",
       "04E         1\n",
       "NJW         1\n",
       "740         1\n",
       "90A         1\n",
       "PKE         1\n",
       "760         1\n",
       "86          1\n",
       "4B3         1\n",
       "752         1\n",
       "JDW         1\n",
       "50C         1\n",
       "SBY         1\n",
       "722         1\n",
       "SFD         1\n",
       "TED         1\n",
       "815         1\n",
       "06          1\n",
       "Name: EVALUATION_IDENTIFIER, Length: 1272, dtype: int64"
      ]
     },
     "execution_count": 15,
     "metadata": {},
     "output_type": "execute_result"
    }
   ],
   "source": [
    "evaluations['EVALUATION_IDENTIFIER'].value_counts()"
   ]
  },
  {
   "cell_type": "code",
   "execution_count": 16,
   "metadata": {},
   "outputs": [
    {
     "data": {
      "text/plain": [
       "1994    45629\n",
       "2009    41999\n",
       "2010    41116\n",
       "2008    39688\n",
       "2007    38763\n",
       "1998    38625\n",
       "2011    38308\n",
       "2006    38306\n",
       "2004    37775\n",
       "2012    37757\n",
       "1997    37593\n",
       "2014    37439\n",
       "1995    37416\n",
       "1996    37278\n",
       "1993    37052\n",
       "2005    36976\n",
       "1992    36371\n",
       "1991    35953\n",
       "2003    35809\n",
       "2013    35428\n",
       "2001    34915\n",
       "1999    34385\n",
       "2002    34331\n",
       "2000    34077\n",
       "2015    33750\n",
       "2016    33548\n",
       "1990    31914\n",
       "2017    31507\n",
       "1989    29592\n",
       "1988    29089\n",
       "2018    27936\n",
       "1987    26900\n",
       "1986    26195\n",
       "1985    23071\n",
       "1984    18944\n",
       "2019     5366\n",
       "1983     3639\n",
       "1982      654\n",
       "1981      327\n",
       "1980       35\n",
       "6          23\n",
       "1901        5\n",
       "1919        4\n",
       "1977        2\n",
       "1911        2\n",
       "5           2\n",
       "1979        1\n",
       "1961        1\n",
       "1955        1\n",
       "1954        1\n",
       "1930        1\n",
       "1920        1\n",
       "Name: year, dtype: int64"
      ]
     },
     "execution_count": 16,
     "metadata": {},
     "output_type": "execute_result"
    }
   ],
   "source": [
    "merged['year'].value_counts()"
   ]
  },
  {
   "cell_type": "code",
   "execution_count": 17,
   "metadata": {},
   "outputs": [
    {
     "name": "stdout",
     "output_type": "stream",
     "text": [
      "Count of FOUND_VIOLATION (evaluation results)\n",
      "-----------------------------------------------\n"
     ]
    },
    {
     "data": {
      "text/plain": [
       "N      809186\n",
       "Y      404336\n",
       "U       11978\n",
       "Name: FOUND_VIOLATION, dtype: int64"
      ]
     },
     "execution_count": 17,
     "metadata": {},
     "output_type": "execute_result"
    }
   ],
   "source": [
    "print(\"Count of FOUND_VIOLATION (evaluation results)\\n-----------------------------------------------\")\n",
    "merged['FOUND_VIOLATION'].value_counts()"
   ]
  },
  {
   "cell_type": "code",
   "execution_count": 18,
   "metadata": {},
   "outputs": [
    {
     "data": {
      "text/plain": [
       "N      652511\n",
       "Y      329007\n",
       "U        9678\n",
       "Name: FOUND_VIOLATION, dtype: int64"
      ]
     },
     "execution_count": 18,
     "metadata": {},
     "output_type": "execute_result"
    }
   ],
   "source": [
    "evaluations['FOUND_VIOLATION'].value_counts()"
   ]
  }
 ],
 "metadata": {
  "kernelspec": {
   "display_name": "Python 3",
   "language": "python",
   "name": "python3"
  },
  "language_info": {
   "codemirror_mode": {
    "name": "ipython",
    "version": 3
   },
   "file_extension": ".py",
   "mimetype": "text/x-python",
   "name": "python",
   "nbconvert_exporter": "python",
   "pygments_lexer": "ipython3",
   "version": "3.6.8"
  }
 },
 "nbformat": 4,
 "nbformat_minor": 2
}
