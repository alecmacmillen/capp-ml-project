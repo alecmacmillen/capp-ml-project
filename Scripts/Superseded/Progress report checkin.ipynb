{
 "cells": [
  {
   "cell_type": "code",
   "execution_count": 1,
   "metadata": {},
   "outputs": [],
   "source": [
    "import pipeline as ppl\n",
    "import pandas as pd\n",
    "import numpy as np\n",
    "import seaborn as sns\n",
    "import matplotlib.pyplot as plt\n",
    "import re"
   ]
  },
  {
   "cell_type": "code",
   "execution_count": 2,
   "metadata": {},
   "outputs": [],
   "source": [
    "from datetime import datetime"
   ]
  },
  {
   "cell_type": "code",
   "execution_count": 3,
   "metadata": {},
   "outputs": [],
   "source": [
    "evaluations = pd.read_csv(\"../Data/RCRA_EVALUATIONS.csv\")"
   ]
  },
  {
   "cell_type": "code",
   "execution_count": 4,
   "metadata": {},
   "outputs": [
    {
     "name": "stdout",
     "output_type": "stream",
     "text": [
      "evaluations \n",
      " There are 991196 observations of 8 variables:\n",
      "\n",
      "                 colname           type  pct_null\n",
      "0              ID_NUMBER  <class 'str'>       0.0\n",
      "1      ACTIVITY_LOCATION  <class 'str'>       0.0\n",
      "2  EVALUATION_IDENTIFIER  <class 'str'>       0.0\n",
      "3        EVALUATION_TYPE  <class 'str'>       0.0\n",
      "4        EVALUATION_DESC  <class 'str'>       0.0\n",
      "5      EVALUATION_AGENCY  <class 'str'>       0.0\n",
      "6  EVALUATION_START_DATE  <class 'str'>       0.0\n",
      "7        FOUND_VIOLATION  <class 'str'>       0.0 \n",
      "\n",
      "Summary of numeric variables\n",
      " None\n"
     ]
    }
   ],
   "source": [
    "meta = ppl.generate_metadata(evaluations)\n",
    "summary = ppl.generate_summary(evaluations)\n",
    "print(\"evaluations\", \"\\n\", \"There are\", len(evaluations), \"observations of\", len(meta), \"variables:\\n\")\n",
    "print(meta, \"\\n\")\n",
    "print(\"Summary of numeric variables\\n\", summary)"
   ]
  },
  {
   "cell_type": "code",
   "execution_count": 6,
   "metadata": {},
   "outputs": [
    {
     "data": {
      "text/plain": [
       "NJ    72342\n",
       "FL    64264\n",
       "NC    55070\n",
       "CO    52943\n",
       "PA    47917\n",
       "KY    46963\n",
       "OH    40566\n",
       "NY    39556\n",
       "MI    36534\n",
       "TN    34782\n",
       "GA    32370\n",
       "CA    30782\n",
       "IL    29827\n",
       "IN    25694\n",
       "AL    24155\n",
       "MA    22560\n",
       "SC    18382\n",
       "WA    18341\n",
       "MO    18289\n",
       "KS    17868\n",
       "LA    17814\n",
       "TX    17799\n",
       "IA    16630\n",
       "WV    16156\n",
       "VA    16004\n",
       "WI    15310\n",
       "NV    14001\n",
       "MN    13196\n",
       "MT    12422\n",
       "CT    11275\n",
       "OR     9568\n",
       "MD     9498\n",
       "DC     9492\n",
       "PR     9319\n",
       "MS     6772\n",
       "WY     5789\n",
       "RI     5766\n",
       "OK     5724\n",
       "AR     5576\n",
       "UT     5215\n",
       "NM     4691\n",
       "AZ     4628\n",
       "NE     4494\n",
       "ID     4207\n",
       "VT     3853\n",
       "DE     2932\n",
       "ND     2492\n",
       "HI     2207\n",
       "SD     2094\n",
       "AK     2016\n",
       "NH     1955\n",
       "ME     1893\n",
       "GU      560\n",
       "VI      404\n",
       "NN      115\n",
       "MP       80\n",
       "TT       31\n",
       "AS       13\n",
       "Name: ACTIVITY_LOCATION, dtype: int64"
      ]
     },
     "execution_count": 6,
     "metadata": {},
     "output_type": "execute_result"
    }
   ],
   "source": [
    "evaluations['ACTIVITY_LOCATION'].value_counts()"
   ]
  },
  {
   "cell_type": "code",
   "execution_count": 5,
   "metadata": {},
   "outputs": [],
   "source": [
    "evaluations['FOUND_VIOLATION'] = evaluations['FOUND_VIOLATION'].str.strip()\n",
    "evaluations['ACTIVITY_LOCATION'] = evaluations['ACTIVITY_LOCATION'].str.strip()\n",
    "evaluations['EVALUATION_IDENTIFIER'] = evaluations['EVALUATION_IDENTIFIER'].str.strip()\n",
    "evaluations['EVALUATION_TYPE'] = evaluations['EVALUATION_TYPE'].str.strip()\n",
    "evaluations['EVALUATION_AGENCY'] = evaluations['EVALUATION_AGENCY'].str.strip()"
   ]
  },
  {
   "cell_type": "code",
   "execution_count": 6,
   "metadata": {},
   "outputs": [],
   "source": [
    "evaluations['VIOLATION_IND'] = np.where(evaluations['FOUND_VIOLATION']==\"Y\",1,0)"
   ]
  },
  {
   "cell_type": "code",
   "execution_count": 7,
   "metadata": {},
   "outputs": [],
   "source": [
    "evaluations['DATE'] = pd.to_datetime(evaluations['EVALUATION_START_DATE'], errors='coerce')"
   ]
  },
  {
   "cell_type": "code",
   "execution_count": 8,
   "metadata": {},
   "outputs": [],
   "source": [
    "evaluations_date = evaluations[evaluations['DATE']>='2000-01-01']"
   ]
  },
  {
   "cell_type": "code",
   "execution_count": 9,
   "metadata": {},
   "outputs": [
    {
     "data": {
      "text/html": [
       "<div>\n",
       "<style scoped>\n",
       "    .dataframe tbody tr th:only-of-type {\n",
       "        vertical-align: middle;\n",
       "    }\n",
       "\n",
       "    .dataframe tbody tr th {\n",
       "        vertical-align: top;\n",
       "    }\n",
       "\n",
       "    .dataframe thead th {\n",
       "        text-align: right;\n",
       "    }\n",
       "</style>\n",
       "<table border=\"1\" class=\"dataframe\">\n",
       "  <thead>\n",
       "    <tr style=\"text-align: right;\">\n",
       "      <th></th>\n",
       "      <th>ID_NUMBER</th>\n",
       "      <th>ACTIVITY_LOCATION</th>\n",
       "      <th>EVALUATION_IDENTIFIER</th>\n",
       "      <th>EVALUATION_TYPE</th>\n",
       "      <th>EVALUATION_DESC</th>\n",
       "      <th>EVALUATION_AGENCY</th>\n",
       "      <th>EVALUATION_START_DATE</th>\n",
       "      <th>FOUND_VIOLATION</th>\n",
       "      <th>VIOLATION_IND</th>\n",
       "      <th>DATE</th>\n",
       "    </tr>\n",
       "  </thead>\n",
       "  <tbody>\n",
       "    <tr>\n",
       "      <th>6</th>\n",
       "      <td>MND006152334</td>\n",
       "      <td>MN</td>\n",
       "      <td>010</td>\n",
       "      <td>CEI</td>\n",
       "      <td>COMPLIANCE EVALUATION INSPECTION ON-SITE</td>\n",
       "      <td>S</td>\n",
       "      <td>03/29/2000</td>\n",
       "      <td>Y</td>\n",
       "      <td>1</td>\n",
       "      <td>2000-03-29</td>\n",
       "    </tr>\n",
       "    <tr>\n",
       "      <th>7</th>\n",
       "      <td>MND006152334</td>\n",
       "      <td>MN</td>\n",
       "      <td>011</td>\n",
       "      <td>CEI</td>\n",
       "      <td>COMPLIANCE EVALUATION INSPECTION ON-SITE</td>\n",
       "      <td>S</td>\n",
       "      <td>08/15/2001</td>\n",
       "      <td>Y</td>\n",
       "      <td>1</td>\n",
       "      <td>2001-08-15</td>\n",
       "    </tr>\n",
       "    <tr>\n",
       "      <th>8</th>\n",
       "      <td>MND006152334</td>\n",
       "      <td>MN</td>\n",
       "      <td>012</td>\n",
       "      <td>CEI</td>\n",
       "      <td>COMPLIANCE EVALUATION INSPECTION ON-SITE</td>\n",
       "      <td>S</td>\n",
       "      <td>01/13/2004</td>\n",
       "      <td>Y</td>\n",
       "      <td>1</td>\n",
       "      <td>2004-01-13</td>\n",
       "    </tr>\n",
       "    <tr>\n",
       "      <th>10</th>\n",
       "      <td>MND006153415</td>\n",
       "      <td>MN</td>\n",
       "      <td>001</td>\n",
       "      <td>CEI</td>\n",
       "      <td>COMPLIANCE EVALUATION INSPECTION ON-SITE</td>\n",
       "      <td>E</td>\n",
       "      <td>06/05/2003</td>\n",
       "      <td>N</td>\n",
       "      <td>0</td>\n",
       "      <td>2003-06-05</td>\n",
       "    </tr>\n",
       "    <tr>\n",
       "      <th>11</th>\n",
       "      <td>MND006153415</td>\n",
       "      <td>MN</td>\n",
       "      <td>001</td>\n",
       "      <td>CEI</td>\n",
       "      <td>COMPLIANCE EVALUATION INSPECTION ON-SITE</td>\n",
       "      <td>S</td>\n",
       "      <td>12/29/2004</td>\n",
       "      <td>Y</td>\n",
       "      <td>1</td>\n",
       "      <td>2004-12-29</td>\n",
       "    </tr>\n",
       "  </tbody>\n",
       "</table>\n",
       "</div>"
      ],
      "text/plain": [
       "       ID_NUMBER ACTIVITY_LOCATION EVALUATION_IDENTIFIER EVALUATION_TYPE  \\\n",
       "6   MND006152334                MN                   010             CEI   \n",
       "7   MND006152334                MN                   011             CEI   \n",
       "8   MND006152334                MN                   012             CEI   \n",
       "10  MND006153415                MN                   001             CEI   \n",
       "11  MND006153415                MN                   001             CEI   \n",
       "\n",
       "                             EVALUATION_DESC EVALUATION_AGENCY  \\\n",
       "6   COMPLIANCE EVALUATION INSPECTION ON-SITE                 S   \n",
       "7   COMPLIANCE EVALUATION INSPECTION ON-SITE                 S   \n",
       "8   COMPLIANCE EVALUATION INSPECTION ON-SITE                 S   \n",
       "10  COMPLIANCE EVALUATION INSPECTION ON-SITE                 E   \n",
       "11  COMPLIANCE EVALUATION INSPECTION ON-SITE                 S   \n",
       "\n",
       "   EVALUATION_START_DATE FOUND_VIOLATION  VIOLATION_IND       DATE  \n",
       "6             03/29/2000               Y              1 2000-03-29  \n",
       "7             08/15/2001               Y              1 2001-08-15  \n",
       "8             01/13/2004               Y              1 2004-01-13  \n",
       "10            06/05/2003               N              0 2003-06-05  \n",
       "11            12/29/2004               Y              1 2004-12-29  "
      ]
     },
     "execution_count": 9,
     "metadata": {},
     "output_type": "execute_result"
    }
   ],
   "source": [
    "evaluations_date.head()"
   ]
  },
  {
   "cell_type": "code",
   "execution_count": 10,
   "metadata": {},
   "outputs": [],
   "source": [
    "x = evaluations_date[['ACTIVITY_LOCATION','EVALUATION_IDENTIFIER','EVALUATION_TYPE','EVALUATION_AGENCY']]\n",
    "x_dummy = ppl.dummify_categorical(x, ['ACTIVITY_LOCATION', 'EVALUATION_IDENTIFIER', 'EVALUATION_TYPE', 'EVALUATION_AGENCY'])\n",
    "y = evaluations_date['VIOLATION_IND']"
   ]
  },
  {
   "cell_type": "code",
   "execution_count": 11,
   "metadata": {},
   "outputs": [
    {
     "name": "stdout",
     "output_type": "stream",
     "text": [
      "Feature importance for decision tree with max_depth 1 :\n",
      "\n",
      "                 Features  Importance\n",
      "1126  EVALUATION_TYPE_CEI         1.0\n",
      "--------------------------------------------------------\n",
      "Feature importance for decision tree with max_depth 2 :\n",
      "\n",
      "                       Features  Importance\n",
      "1126        EVALUATION_TYPE_CEI    0.567708\n",
      "1040  EVALUATION_IDENTIFIER_CEI    0.338643\n",
      "16         ACTIVITY_LOCATION_IN    0.093648\n",
      "--------------------------------------------------------\n",
      "Feature importance for decision tree with max_depth 3 :\n",
      "\n",
      "                       Features  Importance\n",
      "1126        EVALUATION_TYPE_CEI    0.455267\n",
      "1040  EVALUATION_IDENTIFIER_CEI    0.271571\n",
      "1041  EVALUATION_IDENTIFIER_CEN    0.113498\n",
      "16         ACTIVITY_LOCATION_IN    0.075100\n",
      "38         ACTIVITY_LOCATION_OH    0.074975\n",
      "1129        EVALUATION_TYPE_FRR    0.008007\n",
      "9          ACTIVITY_LOCATION_FL    0.001582\n",
      "--------------------------------------------------------\n",
      "Feature importance for decision tree with max_depth 4 :\n",
      "\n",
      "                       Features  Importance\n",
      "1126        EVALUATION_TYPE_CEI    0.404952\n",
      "1040  EVALUATION_IDENTIFIER_CEI    0.241558\n",
      "1041  EVALUATION_IDENTIFIER_CEN    0.100955\n",
      "16         ACTIVITY_LOCATION_IN    0.066800\n",
      "38         ACTIVITY_LOCATION_OH    0.066689\n",
      "1137        EVALUATION_TYPE_SNY    0.052039\n",
      "33         ACTIVITY_LOCATION_NJ    0.043748\n",
      "1128        EVALUATION_TYPE_FCI    0.009290\n",
      "1129        EVALUATION_TYPE_FRR    0.007122\n",
      "102   EVALUATION_IDENTIFIER_001    0.005351\n",
      "9          ACTIVITY_LOCATION_FL    0.001407\n",
      "154   EVALUATION_IDENTIFIER_044    0.000054\n",
      "34         ACTIVITY_LOCATION_NM    0.000034\n",
      "--------------------------------------------------------\n",
      "Feature importance for decision tree with max_depth 5 :\n",
      "\n",
      "                       Features  Importance\n",
      "1126        EVALUATION_TYPE_CEI    0.370994\n",
      "1040  EVALUATION_IDENTIFIER_CEI    0.221302\n",
      "1041  EVALUATION_IDENTIFIER_CEN    0.092489\n",
      "16         ACTIVITY_LOCATION_IN    0.061199\n",
      "38         ACTIVITY_LOCATION_OH    0.061097\n",
      "33         ACTIVITY_LOCATION_NJ    0.051655\n",
      "1137        EVALUATION_TYPE_SNY    0.047676\n",
      "5          ACTIVITY_LOCATION_CO    0.032157\n",
      "53         ACTIVITY_LOCATION_WA    0.030186\n",
      "1128        EVALUATION_TYPE_FCI    0.008511\n",
      "1129        EVALUATION_TYPE_FRR    0.006525\n",
      "102   EVALUATION_IDENTIFIER_001    0.004903\n",
      "1124        EVALUATION_TYPE_CAV    0.004278\n",
      "1136        EVALUATION_TYPE_SNN    0.003586\n",
      "1134        EVALUATION_TYPE_NRR    0.001675\n",
      "9          ACTIVITY_LOCATION_FL    0.001289\n",
      "1142        EVALUATION_AGENCY_S    0.000281\n",
      "121   EVALUATION_IDENTIFIER_018    0.000082\n",
      "154   EVALUATION_IDENTIFIER_044    0.000049\n",
      "203   EVALUATION_IDENTIFIER_079    0.000031\n",
      "34         ACTIVITY_LOCATION_NM    0.000031\n",
      "41         ACTIVITY_LOCATION_PA    0.000004\n",
      "--------------------------------------------------------\n"
     ]
    }
   ],
   "source": [
    "for depth in range(1,6):\n",
    "    dtree = ppl.train_decision_tree(x_dummy, y, max_depth=depth)\n",
    "    x_dummy.columns\n",
    "    d = {'Features':x_dummy.columns, \"Importance\":dtree.feature_importances_}\n",
    "    feature_importance = pd.DataFrame(data=d)\n",
    "    feature_importance = feature_importance.sort_values(by=['Importance'], ascending=False)\n",
    "    feature_importance = feature_importance[feature_importance['Importance'] > 0.0]\n",
    "    print(\"Feature importance for decision tree with max_depth\", depth, \":\\n\")\n",
    "    print(feature_importance)\n",
    "    print(\"--------------------------------------------------------\")"
   ]
  },
  {
   "cell_type": "code",
   "execution_count": 22,
   "metadata": {},
   "outputs": [],
   "source": [
    "x_train, x_test, y_train, y_test = ppl.create_date_splits(evaluations_date, ['ACTIVITY_LOCATION','EVALUATION_IDENTIFIER','EVALUATION_TYPE','EVALUATION_AGENCY'],\n",
    "                                                         'VIOLATION_IND', 'DATE', ('01/01/2000','12/31/2015'), ('01/01/2016','12/31/2018'))"
   ]
  },
  {
   "cell_type": "code",
   "execution_count": 23,
   "metadata": {},
   "outputs": [],
   "source": [
    "x_train = ppl.dummify_categorical(x_train, ['ACTIVITY_LOCATION', 'EVALUATION_IDENTIFIER', 'EVALUATION_TYPE', 'EVALUATION_AGENCY'])\n",
    "x_test = ppl.dummify_categorical(x_test, ['ACTIVITY_LOCATION', 'EVALUATION_IDENTIFIER', 'EVALUATION_TYPE', 'EVALUATION_AGENCY'])"
   ]
  },
  {
   "cell_type": "code",
   "execution_count": 24,
   "metadata": {},
   "outputs": [],
   "source": [
    "feature_importance_list = feature_importance['Features'].tolist()"
   ]
  },
  {
   "cell_type": "code",
   "execution_count": 26,
   "metadata": {},
   "outputs": [],
   "source": [
    "top_features = feature_importance_list[:20]"
   ]
  },
  {
   "cell_type": "code",
   "execution_count": 27,
   "metadata": {},
   "outputs": [
    {
     "name": "stderr",
     "output_type": "stream",
     "text": [
      "C:\\Users\\Alec\\Documents\\Academics\\First Year\\Spring Quarter\\CAPP 30254 - Machine Learning\\Project\\Scripts\\pipeline.py:1044: RuntimeWarning: invalid value encountered in double_scalars\n",
      "  return 1.0 * tp / (fp + tp)\n",
      "C:\\Users\\Alec\\Anaconda3\\lib\\site-packages\\sklearn\\metrics\\classification.py:1113: UndefinedMetricWarning: F-score is ill-defined and being set to 0.0 due to no predicted samples.\n",
      "  'precision', 'predicted', average, warn_for)\n",
      "C:\\Users\\Alec\\Anaconda3\\lib\\site-packages\\sklearn\\metrics\\classification.py:1113: UndefinedMetricWarning: F-score is ill-defined and being set to 0.0 due to no predicted samples.\n",
      "  'precision', 'predicted', average, warn_for)\n",
      "C:\\Users\\Alec\\Anaconda3\\lib\\site-packages\\sklearn\\metrics\\classification.py:1113: UndefinedMetricWarning: F-score is ill-defined and being set to 0.0 due to no predicted samples.\n",
      "  'precision', 'predicted', average, warn_for)\n",
      "C:\\Users\\Alec\\Anaconda3\\lib\\site-packages\\sklearn\\metrics\\classification.py:1113: UndefinedMetricWarning: F-score is ill-defined and being set to 0.0 due to no predicted samples.\n",
      "  'precision', 'predicted', average, warn_for)\n"
     ]
    },
    {
     "name": "stdout",
     "output_type": "stream",
     "text": [
      "             model             train_date              test_date criteria  \\\n",
      "40   Decision Tree  01/01/2000-12/31/2015  01/01/2016-12/31/2018     gini   \n",
      "166  Decision Tree  01/01/2000-12/31/2015  01/01/2016-12/31/2018  entropy   \n",
      "124  Decision Tree  01/01/2000-12/31/2015  01/01/2016-12/31/2018  entropy   \n",
      "82   Decision Tree  01/01/2000-12/31/2015  01/01/2016-12/31/2018     gini   \n",
      "165  Decision Tree  01/01/2000-12/31/2015  01/01/2016-12/31/2018  entropy   \n",
      "39   Decision Tree  01/01/2000-12/31/2015  01/01/2016-12/31/2018     gini   \n",
      "123  Decision Tree  01/01/2000-12/31/2015  01/01/2016-12/31/2018  entropy   \n",
      "81   Decision Tree  01/01/2000-12/31/2015  01/01/2016-12/31/2018     gini   \n",
      "68   Decision Tree  01/01/2000-12/31/2015  01/01/2016-12/31/2018     gini   \n",
      "26   Decision Tree  01/01/2000-12/31/2015  01/01/2016-12/31/2018     gini   \n",
      "\n",
      "    splitter max_depth  threshold  accuracy  precision    recall        f1  \\\n",
      "40      best      None        0.3  0.636049   0.401786  0.852815  0.546227   \n",
      "166   random      None        0.3  0.636049   0.401786  0.852815  0.546227   \n",
      "124     best      None        0.3  0.636049   0.401786  0.852815  0.546227   \n",
      "82    random      None        0.3  0.636049   0.401786  0.852815  0.546227   \n",
      "165   random      None        0.2  0.596031   0.382103  0.928105  0.541336   \n",
      "39      best      None        0.2  0.596031   0.382103  0.928105  0.541336   \n",
      "123     best      None        0.2  0.596031   0.382103  0.928105  0.541336   \n",
      "81    random      None        0.2  0.596031   0.382103  0.928105  0.541336   \n",
      "68    random         5        0.3  0.632978   0.396508  0.821604  0.534881   \n",
      "26      best         5        0.3  0.632978   0.396508  0.821604  0.534881   \n",
      "\n",
      "          auc  \n",
      "40   0.706970  \n",
      "166  0.706970  \n",
      "124  0.706970  \n",
      "82   0.706970  \n",
      "165  0.704679  \n",
      "39   0.704679  \n",
      "123  0.704679  \n",
      "81   0.704679  \n",
      "68   0.694693  \n",
      "26   0.694693  \n"
     ]
    }
   ],
   "source": [
    "dtree_summary_1 = ppl.decision_tree_loop(x_train[top_features], y_train, x_test[top_features], y_test, '01/01/2000-12/31/2015', '01/01/2016-12/31/2018', \n",
    "                                         ['gini','entropy'], ['best','random'], [1,2,3,5,10,None], [0.01, 0.02, 0.05, 0.1, 0.2, 0.3, 0.5])\n",
    "\n",
    "all_dtree = dtree_summary_1.sort_values(by='auc', axis=0, ascending=False)\n",
    "top_dtree = all_dtree[:10]\n",
    "print(top_dtree)"
   ]
  },
  {
   "cell_type": "code",
   "execution_count": 28,
   "metadata": {
    "scrolled": true
   },
   "outputs": [
    {
     "data": {
      "text/html": [
       "<div>\n",
       "<style scoped>\n",
       "    .dataframe tbody tr th:only-of-type {\n",
       "        vertical-align: middle;\n",
       "    }\n",
       "\n",
       "    .dataframe tbody tr th {\n",
       "        vertical-align: top;\n",
       "    }\n",
       "\n",
       "    .dataframe thead th {\n",
       "        text-align: right;\n",
       "    }\n",
       "</style>\n",
       "<table border=\"1\" class=\"dataframe\">\n",
       "  <thead>\n",
       "    <tr style=\"text-align: right;\">\n",
       "      <th></th>\n",
       "      <th>model</th>\n",
       "      <th>train_date</th>\n",
       "      <th>test_date</th>\n",
       "      <th>criteria</th>\n",
       "      <th>splitter</th>\n",
       "      <th>max_depth</th>\n",
       "      <th>threshold</th>\n",
       "      <th>accuracy</th>\n",
       "      <th>precision</th>\n",
       "      <th>recall</th>\n",
       "      <th>f1</th>\n",
       "      <th>auc</th>\n",
       "    </tr>\n",
       "  </thead>\n",
       "  <tbody>\n",
       "    <tr>\n",
       "      <th>40</th>\n",
       "      <td>Decision Tree</td>\n",
       "      <td>01/01/2000-12/31/2015</td>\n",
       "      <td>01/01/2016-12/31/2018</td>\n",
       "      <td>gini</td>\n",
       "      <td>best</td>\n",
       "      <td>None</td>\n",
       "      <td>0.3</td>\n",
       "      <td>0.636049</td>\n",
       "      <td>0.401786</td>\n",
       "      <td>0.852815</td>\n",
       "      <td>0.546227</td>\n",
       "      <td>0.706970</td>\n",
       "    </tr>\n",
       "    <tr>\n",
       "      <th>166</th>\n",
       "      <td>Decision Tree</td>\n",
       "      <td>01/01/2000-12/31/2015</td>\n",
       "      <td>01/01/2016-12/31/2018</td>\n",
       "      <td>entropy</td>\n",
       "      <td>random</td>\n",
       "      <td>None</td>\n",
       "      <td>0.3</td>\n",
       "      <td>0.636049</td>\n",
       "      <td>0.401786</td>\n",
       "      <td>0.852815</td>\n",
       "      <td>0.546227</td>\n",
       "      <td>0.706970</td>\n",
       "    </tr>\n",
       "    <tr>\n",
       "      <th>124</th>\n",
       "      <td>Decision Tree</td>\n",
       "      <td>01/01/2000-12/31/2015</td>\n",
       "      <td>01/01/2016-12/31/2018</td>\n",
       "      <td>entropy</td>\n",
       "      <td>best</td>\n",
       "      <td>None</td>\n",
       "      <td>0.3</td>\n",
       "      <td>0.636049</td>\n",
       "      <td>0.401786</td>\n",
       "      <td>0.852815</td>\n",
       "      <td>0.546227</td>\n",
       "      <td>0.706970</td>\n",
       "    </tr>\n",
       "    <tr>\n",
       "      <th>82</th>\n",
       "      <td>Decision Tree</td>\n",
       "      <td>01/01/2000-12/31/2015</td>\n",
       "      <td>01/01/2016-12/31/2018</td>\n",
       "      <td>gini</td>\n",
       "      <td>random</td>\n",
       "      <td>None</td>\n",
       "      <td>0.3</td>\n",
       "      <td>0.636049</td>\n",
       "      <td>0.401786</td>\n",
       "      <td>0.852815</td>\n",
       "      <td>0.546227</td>\n",
       "      <td>0.706970</td>\n",
       "    </tr>\n",
       "    <tr>\n",
       "      <th>165</th>\n",
       "      <td>Decision Tree</td>\n",
       "      <td>01/01/2000-12/31/2015</td>\n",
       "      <td>01/01/2016-12/31/2018</td>\n",
       "      <td>entropy</td>\n",
       "      <td>random</td>\n",
       "      <td>None</td>\n",
       "      <td>0.2</td>\n",
       "      <td>0.596031</td>\n",
       "      <td>0.382103</td>\n",
       "      <td>0.928105</td>\n",
       "      <td>0.541336</td>\n",
       "      <td>0.704679</td>\n",
       "    </tr>\n",
       "    <tr>\n",
       "      <th>39</th>\n",
       "      <td>Decision Tree</td>\n",
       "      <td>01/01/2000-12/31/2015</td>\n",
       "      <td>01/01/2016-12/31/2018</td>\n",
       "      <td>gini</td>\n",
       "      <td>best</td>\n",
       "      <td>None</td>\n",
       "      <td>0.2</td>\n",
       "      <td>0.596031</td>\n",
       "      <td>0.382103</td>\n",
       "      <td>0.928105</td>\n",
       "      <td>0.541336</td>\n",
       "      <td>0.704679</td>\n",
       "    </tr>\n",
       "    <tr>\n",
       "      <th>123</th>\n",
       "      <td>Decision Tree</td>\n",
       "      <td>01/01/2000-12/31/2015</td>\n",
       "      <td>01/01/2016-12/31/2018</td>\n",
       "      <td>entropy</td>\n",
       "      <td>best</td>\n",
       "      <td>None</td>\n",
       "      <td>0.2</td>\n",
       "      <td>0.596031</td>\n",
       "      <td>0.382103</td>\n",
       "      <td>0.928105</td>\n",
       "      <td>0.541336</td>\n",
       "      <td>0.704679</td>\n",
       "    </tr>\n",
       "    <tr>\n",
       "      <th>81</th>\n",
       "      <td>Decision Tree</td>\n",
       "      <td>01/01/2000-12/31/2015</td>\n",
       "      <td>01/01/2016-12/31/2018</td>\n",
       "      <td>gini</td>\n",
       "      <td>random</td>\n",
       "      <td>None</td>\n",
       "      <td>0.2</td>\n",
       "      <td>0.596031</td>\n",
       "      <td>0.382103</td>\n",
       "      <td>0.928105</td>\n",
       "      <td>0.541336</td>\n",
       "      <td>0.704679</td>\n",
       "    </tr>\n",
       "    <tr>\n",
       "      <th>68</th>\n",
       "      <td>Decision Tree</td>\n",
       "      <td>01/01/2000-12/31/2015</td>\n",
       "      <td>01/01/2016-12/31/2018</td>\n",
       "      <td>gini</td>\n",
       "      <td>random</td>\n",
       "      <td>5</td>\n",
       "      <td>0.3</td>\n",
       "      <td>0.632978</td>\n",
       "      <td>0.396508</td>\n",
       "      <td>0.821604</td>\n",
       "      <td>0.534881</td>\n",
       "      <td>0.694693</td>\n",
       "    </tr>\n",
       "    <tr>\n",
       "      <th>26</th>\n",
       "      <td>Decision Tree</td>\n",
       "      <td>01/01/2000-12/31/2015</td>\n",
       "      <td>01/01/2016-12/31/2018</td>\n",
       "      <td>gini</td>\n",
       "      <td>best</td>\n",
       "      <td>5</td>\n",
       "      <td>0.3</td>\n",
       "      <td>0.632978</td>\n",
       "      <td>0.396508</td>\n",
       "      <td>0.821604</td>\n",
       "      <td>0.534881</td>\n",
       "      <td>0.694693</td>\n",
       "    </tr>\n",
       "  </tbody>\n",
       "</table>\n",
       "</div>"
      ],
      "text/plain": [
       "             model             train_date              test_date criteria  \\\n",
       "40   Decision Tree  01/01/2000-12/31/2015  01/01/2016-12/31/2018     gini   \n",
       "166  Decision Tree  01/01/2000-12/31/2015  01/01/2016-12/31/2018  entropy   \n",
       "124  Decision Tree  01/01/2000-12/31/2015  01/01/2016-12/31/2018  entropy   \n",
       "82   Decision Tree  01/01/2000-12/31/2015  01/01/2016-12/31/2018     gini   \n",
       "165  Decision Tree  01/01/2000-12/31/2015  01/01/2016-12/31/2018  entropy   \n",
       "39   Decision Tree  01/01/2000-12/31/2015  01/01/2016-12/31/2018     gini   \n",
       "123  Decision Tree  01/01/2000-12/31/2015  01/01/2016-12/31/2018  entropy   \n",
       "81   Decision Tree  01/01/2000-12/31/2015  01/01/2016-12/31/2018     gini   \n",
       "68   Decision Tree  01/01/2000-12/31/2015  01/01/2016-12/31/2018     gini   \n",
       "26   Decision Tree  01/01/2000-12/31/2015  01/01/2016-12/31/2018     gini   \n",
       "\n",
       "    splitter max_depth  threshold  accuracy  precision    recall        f1  \\\n",
       "40      best      None        0.3  0.636049   0.401786  0.852815  0.546227   \n",
       "166   random      None        0.3  0.636049   0.401786  0.852815  0.546227   \n",
       "124     best      None        0.3  0.636049   0.401786  0.852815  0.546227   \n",
       "82    random      None        0.3  0.636049   0.401786  0.852815  0.546227   \n",
       "165   random      None        0.2  0.596031   0.382103  0.928105  0.541336   \n",
       "39      best      None        0.2  0.596031   0.382103  0.928105  0.541336   \n",
       "123     best      None        0.2  0.596031   0.382103  0.928105  0.541336   \n",
       "81    random      None        0.2  0.596031   0.382103  0.928105  0.541336   \n",
       "68    random         5        0.3  0.632978   0.396508  0.821604  0.534881   \n",
       "26      best         5        0.3  0.632978   0.396508  0.821604  0.534881   \n",
       "\n",
       "          auc  \n",
       "40   0.706970  \n",
       "166  0.706970  \n",
       "124  0.706970  \n",
       "82   0.706970  \n",
       "165  0.704679  \n",
       "39   0.704679  \n",
       "123  0.704679  \n",
       "81   0.704679  \n",
       "68   0.694693  \n",
       "26   0.694693  "
      ]
     },
     "execution_count": 28,
     "metadata": {},
     "output_type": "execute_result"
    }
   ],
   "source": [
    "top_dtree"
   ]
  },
  {
   "cell_type": "code",
   "execution_count": 29,
   "metadata": {},
   "outputs": [
    {
     "name": "stdout",
     "output_type": "stream",
     "text": [
      "Normalized confusion matrix\n",
      "[[ 0.56112639  0.43887361]\n",
      " [ 0.14718549  0.85281451]]\n"
     ]
    },
    {
     "data": {
      "image/png": "[encoded data removed]",
      "text/plain": [
       "<Figure size 432x288 with 2 Axes>"
      ]
     },
     "metadata": {
      "needs_background": "light"
     },
     "output_type": "display_data"
    }
   ],
   "source": [
    "tree_1 = ppl.train_decision_tree(x_train[top_features], y_train, criterion='gini',splitter='best', max_depth=None)\n",
    "pred_scores = tree_1.predict_proba(x_test[top_features])\n",
    "pred_labels = [1 if x[1] > 0.3 else 0 for x in pred_scores]\n",
    "ppl.plot_confusion_matrix(y_test, pred_labels, ['Violation','No violation'],\n",
    "                         normalize=True, title=\"Confusion matrix for best-performing decision tree\")"
   ]
  },
  {
   "cell_type": "code",
   "execution_count": 30,
   "metadata": {},
   "outputs": [
    {
     "data": {
      "image/png": "[encoded data removed]",
      "text/plain": [
       "<Figure size 432x288 with 1 Axes>"
      ]
     },
     "metadata": {
      "needs_background": "light"
     },
     "output_type": "display_data"
    }
   ],
   "source": [
    "fpr, tpr, roc_auc = ppl.calculate_roc_curve(tree_1, x_test[top_features], y_test, 0.3)\n",
    "ppl.plot_roc_curve(fpr, tpr, roc_auc, 'darkorange', 'ROC Curve for best-performing decision tree example')"
   ]
  },
  {
   "cell_type": "code",
   "execution_count": 33,
   "metadata": {},
   "outputs": [
    {
     "data": {
      "text/plain": [
       "76840"
      ]
     },
     "execution_count": 33,
     "metadata": {},
     "output_type": "execute_result"
    }
   ],
   "source": [
    "len(y_test)"
   ]
  },
  {
   "cell_type": "code",
   "execution_count": 34,
   "metadata": {},
   "outputs": [
    {
     "data": {
      "text/plain": [
       "19737"
      ]
     },
     "execution_count": 34,
     "metadata": {},
     "output_type": "execute_result"
    }
   ],
   "source": [
    "sum(y_test)"
   ]
  },
  {
   "cell_type": "code",
   "execution_count": 35,
   "metadata": {},
   "outputs": [
    {
     "data": {
      "text/plain": [
       "0.743141592920354"
      ]
     },
     "execution_count": 35,
     "metadata": {},
     "output_type": "execute_result"
    }
   ],
   "source": [
    "(76840-19737)/76840"
   ]
  }
 ],
 "metadata": {
  "kernelspec": {
   "display_name": "Python 3",
   "language": "python",
   "name": "python3"
  },
  "language_info": {
   "codemirror_mode": {
    "name": "ipython",
    "version": 3
   },
   "file_extension": ".py",
   "mimetype": "text/x-python",
   "name": "python",
   "nbconvert_exporter": "python",
   "pygments_lexer": "ipython3",
   "version": "3.6.8"
  }
 },
 "nbformat": 4,
 "nbformat_minor": 2
}
